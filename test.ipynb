{
 "cells": [
  {
   "cell_type": "code",
   "execution_count": 1,
   "outputs": [],
   "source": [
    "import numpy as np\n",
    "import open3d as o3d\n",
    "import pye57"
   ],
   "metadata": {
    "collapsed": false,
    "pycharm": {
     "name": "#%%\n"
    }
   }
  },
  {
   "cell_type": "code",
   "execution_count": 2,
   "outputs": [],
   "source": [
    "def read_e57_point(fname, voxel_size=0.05):\n",
    "\n",
    "\n",
    "    print(\"\\033[92mprocessing... \\033[0;37;40m {}\".format(fname))\n",
    "    e57 = pye57.E57(fname)\n",
    "    ptc = o3d.geometry.PointCloud()\n",
    "    l = 0\n",
    "    for i in range(e57.scan_count):\n",
    "        print(\"\\033[92mprocessing... \\033[0;37;40m {}\".format(i))\n",
    "\n",
    "        ptci = o3d.geometry.PointCloud()\n",
    "\n",
    "        if 'colorRed' in e57.get_header(i).point_fields:\n",
    "\n",
    "            dt = e57.read_scan(i, ignore_missing_fields=True)\n",
    "            na = np.stack((dt['cartesianX'], dt['cartesianY'], dt['cartesianZ']), axis=-1)\n",
    "            ptci.points = o3d.utility.Vector3dVector(na)\n",
    "            cols = np.stack([dt['colorRed'], dt['colorGreen'], dt['colorBlue']], axis=-1) * (1 / 255)\n",
    "\n",
    "            ptci.colors = o3d.utility.Vector3dVector(cols)\n",
    "        else:\n",
    "\n",
    "            dt = e57.read_scan(i, ignore_missing_fields=True)\n",
    "            na = np.stack((dt['cartesianX'], dt['cartesianY'], dt['cartesianZ']), axis=-1)\n",
    "\n",
    "            ptci.points = o3d.utility.Vector3dVector(na)\n",
    "\n",
    "        l += len(na)\n",
    "        print(\"down sampling...\".format(i))\n",
    "        dptc = ptci.voxel_down_sample(voxel_size)\n",
    "        print(\"\\033[92mdown sampling sucsess \\033[0;37;40m {}\".format(i))\n",
    "        ptc += dptc\n",
    "    print(l)\n",
    "    return ptc\n",
    "\n"
   ],
   "metadata": {
    "collapsed": false,
    "pycharm": {
     "name": "#%%\n"
    }
   }
  },
  {
   "cell_type": "code",
   "execution_count": 3,
   "outputs": [
    {
     "name": "stdout",
     "output_type": "stream",
     "text": [
      "\u001B[92mprocessing... \u001B[0;37;40m /Users/andrewastakhov/ptc_processiing/e57/Исправления 19 этап/Arka.e57\n",
      "\u001B[92mprocessing... \u001B[0;37;40m 0\n"
     ]
    },
    {
     "ename": "E57Exception",
     "evalue": "E57 element path well formed but not defined (E57_ERROR_PATH_UNDEFINED)",
     "output_type": "error",
     "traceback": [
      "\u001B[0;31m---------------------------------------------------------------------------\u001B[0m",
      "\u001B[0;31mE57Exception\u001B[0m                              Traceback (most recent call last)",
      "Input \u001B[0;32mIn [3]\u001B[0m, in \u001B[0;36m<cell line: 1>\u001B[0;34m()\u001B[0m\n\u001B[0;32m----> 1\u001B[0m ptc\u001B[38;5;241m=\u001B[39m\u001B[43mread_e57_point\u001B[49m\u001B[43m(\u001B[49m\u001B[38;5;124;43m'\u001B[39;49m\u001B[38;5;124;43m/Users/andrewastakhov/ptc_processiing/e57/Исправления 19 этап/Arka.e57\u001B[39;49m\u001B[38;5;124;43m'\u001B[39;49m\u001B[43m)\u001B[49m\n",
      "Input \u001B[0;32mIn [2]\u001B[0m, in \u001B[0;36mread_e57_point\u001B[0;34m(fname, voxel_size)\u001B[0m\n\u001B[1;32m     11\u001B[0m ptci \u001B[38;5;241m=\u001B[39m o3d\u001B[38;5;241m.\u001B[39mgeometry\u001B[38;5;241m.\u001B[39mPointCloud()\n\u001B[1;32m     13\u001B[0m \u001B[38;5;28;01mif\u001B[39;00m \u001B[38;5;124m'\u001B[39m\u001B[38;5;124mcolorRed\u001B[39m\u001B[38;5;124m'\u001B[39m \u001B[38;5;129;01min\u001B[39;00m e57\u001B[38;5;241m.\u001B[39mget_header(i)\u001B[38;5;241m.\u001B[39mpoint_fields:\n\u001B[0;32m---> 15\u001B[0m     dt \u001B[38;5;241m=\u001B[39m \u001B[43me57\u001B[49m\u001B[38;5;241;43m.\u001B[39;49m\u001B[43mread_scan\u001B[49m\u001B[43m(\u001B[49m\u001B[43mi\u001B[49m\u001B[43m,\u001B[49m\u001B[43m \u001B[49m\u001B[43mignore_missing_fields\u001B[49m\u001B[38;5;241;43m=\u001B[39;49m\u001B[38;5;28;43;01mTrue\u001B[39;49;00m\u001B[43m)\u001B[49m\n\u001B[1;32m     16\u001B[0m     na \u001B[38;5;241m=\u001B[39m np\u001B[38;5;241m.\u001B[39mstack((dt[\u001B[38;5;124m'\u001B[39m\u001B[38;5;124mcartesianX\u001B[39m\u001B[38;5;124m'\u001B[39m], dt[\u001B[38;5;124m'\u001B[39m\u001B[38;5;124mcartesianY\u001B[39m\u001B[38;5;124m'\u001B[39m], dt[\u001B[38;5;124m'\u001B[39m\u001B[38;5;124mcartesianZ\u001B[39m\u001B[38;5;124m'\u001B[39m]), axis\u001B[38;5;241m=\u001B[39m\u001B[38;5;241m-\u001B[39m\u001B[38;5;241m1\u001B[39m)\n\u001B[1;32m     17\u001B[0m     ptci\u001B[38;5;241m.\u001B[39mpoints \u001B[38;5;241m=\u001B[39m o3d\u001B[38;5;241m.\u001B[39mutility\u001B[38;5;241m.\u001B[39mVector3dVector(na)\n",
      "File \u001B[0;32m~/miniconda3/envs/work/lib/python3.9/site-packages/pye57/e57.py:214\u001B[0m, in \u001B[0;36mE57.read_scan\u001B[0;34m(self, index, intensity, colors, row_column, transform, ignore_missing_fields)\u001B[0m\n\u001B[1;32m    212\u001B[0m \u001B[38;5;66;03m# translation to global coordinates\u001B[39;00m\n\u001B[1;32m    213\u001B[0m \u001B[38;5;28;01mif\u001B[39;00m header\u001B[38;5;241m.\u001B[39mhas_pose():\n\u001B[0;32m--> 214\u001B[0m     xyz \u001B[38;5;241m=\u001B[39m \u001B[38;5;28mself\u001B[39m\u001B[38;5;241m.\u001B[39mto_global(xyz, \u001B[43mheader\u001B[49m\u001B[38;5;241;43m.\u001B[39;49m\u001B[43mrotation\u001B[49m, header\u001B[38;5;241m.\u001B[39mtranslation)\n\u001B[1;32m    215\u001B[0m data[\u001B[38;5;124m\"\u001B[39m\u001B[38;5;124mcartesianX\u001B[39m\u001B[38;5;124m\"\u001B[39m] \u001B[38;5;241m=\u001B[39m xyz[:, \u001B[38;5;241m0\u001B[39m]\n\u001B[1;32m    216\u001B[0m data[\u001B[38;5;124m\"\u001B[39m\u001B[38;5;124mcartesianY\u001B[39m\u001B[38;5;124m\"\u001B[39m] \u001B[38;5;241m=\u001B[39m xyz[:, \u001B[38;5;241m1\u001B[39m]\n",
      "File \u001B[0;32m~/miniconda3/envs/work/lib/python3.9/site-packages/pye57/scan_header.py:32\u001B[0m, in \u001B[0;36mScanHeader.rotation\u001B[0;34m(self)\u001B[0m\n\u001B[1;32m     30\u001B[0m \u001B[38;5;129m@property\u001B[39m\n\u001B[1;32m     31\u001B[0m \u001B[38;5;28;01mdef\u001B[39;00m \u001B[38;5;21mrotation\u001B[39m(\u001B[38;5;28mself\u001B[39m) \u001B[38;5;241m-\u001B[39m\u001B[38;5;241m>\u001B[39m np\u001B[38;5;241m.\u001B[39marray:\n\u001B[0;32m---> 32\u001B[0m     q \u001B[38;5;241m=\u001B[39m Quaternion([e\u001B[38;5;241m.\u001B[39mvalue() \u001B[38;5;28;01mfor\u001B[39;00m e \u001B[38;5;129;01min\u001B[39;00m \u001B[38;5;28;43mself\u001B[39;49m\u001B[38;5;241;43m.\u001B[39;49m\u001B[43mnode\u001B[49m\u001B[43m[\u001B[49m\u001B[38;5;124;43m\"\u001B[39;49m\u001B[38;5;124;43mpose\u001B[39;49m\u001B[38;5;124;43m\"\u001B[39;49m\u001B[43m]\u001B[49m\u001B[43m[\u001B[49m\u001B[38;5;124;43m\"\u001B[39;49m\u001B[38;5;124;43mrotation\u001B[39;49m\u001B[38;5;124;43m\"\u001B[39;49m\u001B[43m]\u001B[49m])\n\u001B[1;32m     33\u001B[0m     \u001B[38;5;28;01mreturn\u001B[39;00m q\u001B[38;5;241m.\u001B[39melements\n",
      "\u001B[0;31mE57Exception\u001B[0m: E57 element path well formed but not defined (E57_ERROR_PATH_UNDEFINED)"
     ]
    }
   ],
   "source": [
    "ptc=read_e57_point('/Users/andrewastakhov/ptc_processiing/e57/Исправления 19 этап/Arka.e57')"
   ],
   "metadata": {
    "collapsed": false,
    "pycharm": {
     "name": "#%%\n"
    }
   }
  },
  {
   "cell_type": "code",
   "execution_count": null,
   "outputs": [],
   "source": [
    "o3d.visualization.draw(ptc, bg_color=(0.2, 0.2, 0.2, 1), show_skybox=False,show_ui=True,point_size=1,rpc_interface=True,non_blocking_and_return_uid=True)"
   ],
   "metadata": {
    "collapsed": false,
    "pycharm": {
     "name": "#%%\n"
    }
   }
  }
 ],
 "metadata": {
  "kernelspec": {
   "display_name": "Python 3",
   "language": "python",
   "name": "python3"
  },
  "language_info": {
   "codemirror_mode": {
    "name": "ipython",
    "version": 2
   },
   "file_extension": ".py",
   "mimetype": "text/x-python",
   "name": "python",
   "nbconvert_exporter": "python",
   "pygments_lexer": "ipython2",
   "version": "2.7.6"
  }
 },
 "nbformat": 4,
 "nbformat_minor": 0
}